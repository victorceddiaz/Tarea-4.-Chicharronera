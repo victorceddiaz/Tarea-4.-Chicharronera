{
  "nbformat": 4,
  "nbformat_minor": 0,
  "metadata": {
    "colab": {
      "name": "Tarea 4 Chicharronera.ipynb",
      "provenance": [],
      "collapsed_sections": [],
      "authorship_tag": "ABX9TyMLTXilRTyeRWNH0TpJZNeA",
      "include_colab_link": true
    },
    "kernelspec": {
      "name": "python3",
      "display_name": "Python 3"
    },
    "language_info": {
      "name": "python"
    }
  },
  "cells": [
    {
      "cell_type": "markdown",
      "metadata": {
        "id": "view-in-github",
        "colab_type": "text"
      },
      "source": [
        "<a href=\"https://colab.research.google.com/github/victorceddiaz/Tarea-4.-Chicharronera/blob/main/Tarea_4_Chicharronera.ipynb\" target=\"_parent\"><img src=\"https://colab.research.google.com/assets/colab-badge.svg\" alt=\"Open In Colab\"/></a>"
      ]
    },
    {
      "cell_type": "markdown",
      "metadata": {
        "id": "cwly5M4AtkX0"
      },
      "source": [
        "##Tarea 4. Programa que resuelve una función de segundo grado mediante la fórmula de la chicharronera.\n",
        "\n",
        "Alumno: Cedillo Díaz Victor Antonio \n",
        "\n",
        "Grupo: 1360\n",
        "\n",
        "Materia: Estructura de Datos"
      ]
    },
    {
      "cell_type": "code",
      "metadata": {
        "colab": {
          "base_uri": "https://localhost:8080/"
        },
        "id": "N3uzzxYVtWzA",
        "outputId": "d0e6e92e-73c0-49b7-fb40-61752cfd49ba"
      },
      "source": [
        "from math import sqrt\n",
        "\n",
        "def chicharronera(A, B, C) :\n",
        "    D=B*B-((4)*A*C)\n",
        "\n",
        "    if D<0 :\n",
        "        D=(-1)*D\n",
        "        raiz=sqrt(D)\n",
        "        real=(-B)/(2*A)\n",
        "        imag=raiz/(2*A)\n",
        "        print(\"Las raíces son imaginarias y son : \")\n",
        "        print(f'x_1= {real} + {imag}i')\n",
        "        print(f'x_2= {real} - {imag}i')\n",
        "    else :\n",
        "        x_1=(-B + sqrt(D))/(2*A)\n",
        "        x_2=(-B - sqrt(D))/(2*A)\n",
        "        print(\"Las raíces son reales y son : \")\n",
        "        print(f'x_1 = {x_1}')\n",
        "        print(f'x_2 = {x_2}')\n",
        "\n",
        "A = int(input(\"Ingrese la variable cuadrática : \"))\n",
        "B = int(input(\"Ingrese la variable lineal : \"))\n",
        "C = int(input(\"Ingrese la variable independiente : \"))\n",
        "\n",
        "chicharronera(A, B, C)"
      ],
      "execution_count": null,
      "outputs": [
        {
          "output_type": "stream",
          "name": "stdout",
          "text": [
            "Ingrese la variable cuadrática : 1\n",
            "Ingrese la variable lineal : -2\n",
            "Ingrese la variable independiente : 5\n",
            "Las raíces son imaginarias y son : \n",
            "x_1= 1.0 + 2.0i\n",
            "x_2= 1.0 - 2.0i\n"
          ]
        }
      ]
    }
  ]
}